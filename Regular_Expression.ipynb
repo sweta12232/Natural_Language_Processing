{
 "cells": [
  {
   "cell_type": "code",
   "execution_count": 1,
   "id": "cf05083a-0816-48b0-8e85-d5c2fa1d64eb",
   "metadata": {},
   "outputs": [],
   "source": [
    "import re"
   ]
  },
  {
   "cell_type": "code",
   "execution_count": 4,
   "id": "eb3e9ce8-2a25-4cd0-b743-5328b8b3a866",
   "metadata": {},
   "outputs": [
    {
     "name": "stdout",
     "output_type": "stream",
     "text": [
      "C:\\desktop\n",
      "otes\n"
     ]
    },
    {
     "name": "stderr",
     "output_type": "stream",
     "text": [
      "<>:1: SyntaxWarning: invalid escape sequence '\\d'\n",
      "<>:1: SyntaxWarning: invalid escape sequence '\\d'\n",
      "C:\\Users\\SWETA\\AppData\\Local\\Temp\\ipykernel_11976\\3642280685.py:1: SyntaxWarning: invalid escape sequence '\\d'\n",
      "  my_folder = \"C:\\desktop\\notes\"\n"
     ]
    }
   ],
   "source": [
    "\n",
    "my_folder = \"C:\\desktop\\notes\"\n",
    "print(my_folder)"
   ]
  },
  {
   "cell_type": "markdown",
   "id": "7a786e63-96f8-4750-8b25-925b13c0b845",
   "metadata": {},
   "source": [
    "The backslash (\\) in Python strings is treated as an escape character (e.g., \\n is interpreted as a new line). In this case, \\n in \\notes is being interpreted as a newline character, which is why \"notes\" appears on the next line."
   ]
  },
  {
   "cell_type": "code",
   "execution_count": 5,
   "id": "a8a15ce1-9e6f-4e76-a471-1fcd6e75d846",
   "metadata": {},
   "outputs": [
    {
     "name": "stdout",
     "output_type": "stream",
     "text": [
      "C:\\desktop\\notes\n"
     ]
    }
   ],
   "source": [
    "my_folder = r\"C:\\desktop\\notes\"\n",
    "print(my_folder)"
   ]
  },
  {
   "cell_type": "markdown",
   "id": "f87ed615-cdd7-4bdc-9604-131caf7e2fe6",
   "metadata": {},
   "source": [
    "When we use r before a string in Python, it creates a raw string. In a raw string, backslashes (\\) are treated literally, and not as escape characters. This is particularly useful for file paths where backslashes are common."
   ]
  },
  {
   "cell_type": "markdown",
   "id": "299ac945-118a-4c04-8e51-9f47b643bc5e",
   "metadata": {},
   "source": [
    "## re.search"
   ]
  },
  {
   "cell_type": "code",
   "execution_count": 6,
   "id": "d9585acb-7b84-4b60-9ba3-3b4f9af6198a",
   "metadata": {},
   "outputs": [
    {
     "name": "stdout",
     "output_type": "stream",
     "text": [
      "<re.Match object; span=(22, 29), match='pattern'>\n"
     ]
    }
   ],
   "source": [
    "result_search = re.search(\"pattern\", r\"string containing the pattern\")\n",
    "print(result_search)"
   ]
  },
  {
   "cell_type": "markdown",
   "id": "f37b64fd-c15a-4efa-935e-fae3a42c0536",
   "metadata": {},
   "source": [
    "This part searches the string to see if the word \"pattern\" exists anywhere in the string.\n",
    "In this case, the function is checking the string \"string containing the pattern\" to see if it contains the word \"pattern\". And starts at position 22 and ends at position 29."
   ]
  },
  {
   "cell_type": "code",
   "execution_count": 8,
   "id": "c856117a-c5d4-47bc-8946-5fbf62f10340",
   "metadata": {},
   "outputs": [
    {
     "name": "stdout",
     "output_type": "stream",
     "text": [
      "pattern\n"
     ]
    }
   ],
   "source": [
    "print(result_search.group())"
   ]
  },
  {
   "cell_type": "markdown",
   "id": "fed2c4d9-23ef-4916-ac23-51cdf4aa2a9e",
   "metadata": {},
   "source": [
    "The result_search.group() method is used to return the actual part of the string that matched the regular expression"
   ]
  },
  {
   "cell_type": "code",
   "execution_count": 9,
   "id": "02d330d4-2812-42d0-b9a3-accb9d0f3648",
   "metadata": {},
   "outputs": [
    {
     "name": "stdout",
     "output_type": "stream",
     "text": [
      "None\n"
     ]
    }
   ],
   "source": [
    "result_search = re.search(\"pattern\",r\"the phrase to find isn't in this string\")\n",
    "print(result_search) "
   ]
  },
  {
   "cell_type": "markdown",
   "id": "0cdab013-5588-4861-8008-3c262cc01953",
   "metadata": {},
   "source": [
    "When pattern is not in the string the give us None"
   ]
  },
  {
   "cell_type": "markdown",
   "id": "d82dcd92-e309-410d-9229-052e941e26f0",
   "metadata": {},
   "source": [
    "## re.sub\n",
    "replacing"
   ]
  },
  {
   "cell_type": "code",
   "execution_count": 13,
   "id": "d5b97518-88f1-4b13-b0e0-0cc9f8735276",
   "metadata": {},
   "outputs": [],
   "source": [
    "string = r\"Swet is a Data Scientist\""
   ]
  },
  {
   "cell_type": "code",
   "execution_count": 14,
   "id": "bdbfbf6d-52b8-4350-b6dd-23d511f03865",
   "metadata": {},
   "outputs": [
    {
     "name": "stdout",
     "output_type": "stream",
     "text": [
      "Sweta is a Data Scientist\n"
     ]
    }
   ],
   "source": [
    "new_string = re.sub(r\"Swet\", r\"Sweta\", string) \n",
    "print(new_string)"
   ]
  },
  {
   "cell_type": "markdown",
   "id": "90bbc289-b3b6-4b65-88c8-fc4559516b76",
   "metadata": {},
   "source": [
    "## Regex Syntax"
   ]
  },
  {
   "cell_type": "code",
   "execution_count": 24,
   "id": "90f0834b-df99-4eff-b096-f944aff6e6da",
   "metadata": {},
   "outputs": [],
   "source": [
    "customer_reviews = [\n",
    "    'ram was extremely helpful and polite during my visit',\n",
    "    'the assistant manager, sita, was very rude to me at checkout',\n",
    "    'fantastic assistance from hari in finding the right products!',\n",
    "    'gita went above and beyond to help me locate everything I needed',\n",
    "    'sarita has been a valuable asset to the team, always providing great service',\n",
    "    'outstanding service from pratiksha, she helped me find exactly what I was looking for'\n",
    "]\n"
   ]
  },
  {
   "cell_type": "code",
   "execution_count": 25,
   "id": "cb09ca56-07a2-4498-917d-f877b756cde5",
   "metadata": {},
   "outputs": [],
   "source": [
    "gita_review = []\n",
    "pattern_to_find = r\"gita?\" "
   ]
  },
  {
   "cell_type": "markdown",
   "id": "1f340d8d-70dd-41a0-bc23-58a93fbbd07f",
   "metadata": {},
   "source": [
    "the ? after r means it is an optional character to match, so our search will look for gita or git"
   ]
  },
  {
   "cell_type": "code",
   "execution_count": 27,
   "id": "f5de16ac-430f-451c-9dc4-7098296b8eac",
   "metadata": {},
   "outputs": [],
   "source": [
    "for string in customer_reviews:\n",
    "    if (re.search(pattern_to_find, string)):\n",
    "        gita_review.append(string)"
   ]
  },
  {
   "cell_type": "code",
   "execution_count": 28,
   "id": "9c54414d-fe5e-4e17-8926-cc9aaf06a26f",
   "metadata": {},
   "outputs": [
    {
     "name": "stdout",
     "output_type": "stream",
     "text": [
      "['gita went above and beyond to help me locate everything I needed']\n"
     ]
    }
   ],
   "source": [
    "print(gita_review)"
   ]
  },
  {
   "cell_type": "code",
   "execution_count": 40,
   "id": "0db83490-646f-4ec4-942c-57a4924d4824",
   "metadata": {},
   "outputs": [],
   "source": [
    "f_reviews = []\n",
    "pattern_to_find = r\"^f\" "
   ]
  },
  {
   "cell_type": "markdown",
   "id": "ba52ee57-536c-40cf-8bcd-dcdd09e86f3d",
   "metadata": {},
   "source": [
    " ^ operator to  shows the start of a string"
   ]
  },
  {
   "cell_type": "code",
   "execution_count": 41,
   "id": "fe355c98-3021-4c02-b28f-848bc0d5df91",
   "metadata": {},
   "outputs": [],
   "source": [
    "for string in customer_reviews:\n",
    "    if (re.search(pattern_to_find, string)):\n",
    "        f_reviews.append(string)"
   ]
  },
  {
   "cell_type": "code",
   "execution_count": 42,
   "id": "07ccecee-6c7e-469b-844f-bbb24c5134d2",
   "metadata": {},
   "outputs": [
    {
     "name": "stdout",
     "output_type": "stream",
     "text": [
      "['fantastic assistance from hari in finding the right products!', 'fantastic assistance from hari in finding the right products!']\n"
     ]
    }
   ],
   "source": [
    "print(a_reviews)"
   ]
  },
  {
   "cell_type": "code",
   "execution_count": 52,
   "id": "c1a1f207-ab9f-42d7-8238-201f424eec35",
   "metadata": {},
   "outputs": [],
   "source": [
    "t_reviews = []\n",
    "pattern_to_find = r\"t$\" "
   ]
  },
  {
   "cell_type": "markdown",
   "id": "bfde8a9a-a481-4047-a042-dfca7f564152",
   "metadata": {},
   "source": [
    "$ operator shows the end of a string"
   ]
  },
  {
   "cell_type": "code",
   "execution_count": 55,
   "id": "9f5edf82-5bf5-43b1-a38e-b20ca98e3166",
   "metadata": {},
   "outputs": [],
   "source": [
    "for string in customer_reviews:\n",
    "    if (re.search(pattern_to_find, string)):\n",
    "        t_reviews.append(string)"
   ]
  },
  {
   "cell_type": "code",
   "execution_count": 56,
   "id": "4157ec59-1d59-48ea-9236-f420c49829d0",
   "metadata": {},
   "outputs": [
    {
     "name": "stdout",
     "output_type": "stream",
     "text": [
      "['ram was extremely helpful and polite during my visit', 'the assistant manager, sita, was very rude to me at checkout', 'ram was extremely helpful and polite during my visit', 'the assistant manager, sita, was very rude to me at checkout']\n"
     ]
    }
   ],
   "source": [
    "print(t_reviews)"
   ]
  },
  {
   "cell_type": "code",
   "execution_count": 57,
   "id": "5735168a-b627-47e3-b344-b293bfa61c64",
   "metadata": {},
   "outputs": [],
   "source": [
    "needwant_reviews = []\n",
    "pattern_to_find = r\"(need|want)ed\" "
   ]
  },
  {
   "cell_type": "markdown",
   "id": "d3cff090-d430-4782-85ad-a98d83de496e",
   "metadata": {},
   "source": [
    "the pipe operator | ==OR"
   ]
  },
  {
   "cell_type": "code",
   "execution_count": 61,
   "id": "1767cffb-b029-49c5-ad41-c155e811a7a1",
   "metadata": {},
   "outputs": [],
   "source": [
    "for string in customer_reviews:\n",
    "    if (re.search(pattern_to_find, string)):\n",
    "        needwant_reviews.append(string)"
   ]
  },
  {
   "cell_type": "code",
   "execution_count": 62,
   "id": "8f84c683-5c05-4ad3-b758-62e41a000583",
   "metadata": {},
   "outputs": [
    {
     "name": "stdout",
     "output_type": "stream",
     "text": [
      "['gita went above and beyond to help me locate everything I needed', 'gita went above and beyond to help me locate everything I needed', 'gita went above and beyond to help me locate everything I needed']\n"
     ]
    }
   ],
   "source": [
    "print(needwant_reviews)"
   ]
  },
  {
   "cell_type": "code",
   "execution_count": 69,
   "id": "ccf6d899-111e-4daf-9b40-e7c9b471d8b3",
   "metadata": {},
   "outputs": [],
   "source": [
    "no_punct_reviews = []\n",
    "pattern_to_find = r\"[^\\w\\s]\" \n"
   ]
  },
  {
   "cell_type": "markdown",
   "id": "669128c9-618e-4f7e-868d-5bf2676049b6",
   "metadata": {},
   "source": [
    "This pattern is used to find punctuation. Here’s what it means:\n",
    "\n",
    "\\w matches any word character (letters, numbers, and underscores).\n",
    "\\s matches any whitespace character (like spaces and tabs).\n",
    "The ^ inside the brackets means \"not,\" so [^\\w\\s] matches anything that is not a word character or whitespace—essentially, punctuation."
   ]
  },
  {
   "cell_type": "code",
   "execution_count": 67,
   "id": "90f24140-d30e-4be8-890e-c9ab8adcf0a0",
   "metadata": {},
   "outputs": [],
   "source": [
    "for string in customer_reviews:\n",
    "    no_punct_string = re.sub(pattern_to_find, \"\", string)\n",
    "    no_punct_reviews.append(no_punct_string)"
   ]
  },
  {
   "cell_type": "code",
   "execution_count": 68,
   "id": "4747a217-54a6-4338-9273-306a7d30233b",
   "metadata": {},
   "outputs": [
    {
     "name": "stdout",
     "output_type": "stream",
     "text": [
      "['ram was extremely helpful and polite during my visit', 'the assistant manager sita was very rude to me at checkout', 'fantastic assistance from hari in finding the right products', 'gita went above and beyond to help me locate everything I needed', 'sarita has been a valuable asset to the team always providing great service', 'outstanding service from pratiksha she helped me find exactly what I was looking for']\n"
     ]
    }
   ],
   "source": [
    "print(no_punct_reviews)"
   ]
  },
  {
   "cell_type": "code",
   "execution_count": null,
   "id": "1348e1cd-4b1c-4dd7-a322-3f94699241ff",
   "metadata": {},
   "outputs": [],
   "source": []
  }
 ],
 "metadata": {
  "kernelspec": {
   "display_name": "Python 3 (ipykernel)",
   "language": "python",
   "name": "python3"
  },
  "language_info": {
   "codemirror_mode": {
    "name": "ipython",
    "version": 3
   },
   "file_extension": ".py",
   "mimetype": "text/x-python",
   "name": "python",
   "nbconvert_exporter": "python",
   "pygments_lexer": "ipython3",
   "version": "3.12.3"
  }
 },
 "nbformat": 4,
 "nbformat_minor": 5
}

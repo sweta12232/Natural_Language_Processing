{
 "cells": [
  {
   "cell_type": "code",
   "execution_count": 1,
   "id": "ab2a3e32-d74f-49ae-859a-f6136a12795e",
   "metadata": {},
   "outputs": [
    {
     "name": "stdout",
     "output_type": "stream",
     "text": [
      "My name is Sweta Sharma\n"
     ]
    }
   ],
   "source": [
    "sentence = \"My name is Sweta Sharma\"\n",
    "print(sentence)"
   ]
  },
  {
   "cell_type": "code",
   "execution_count": 2,
   "id": "138b7899-5dde-4ceb-9357-64f94f7b532b",
   "metadata": {},
   "outputs": [],
   "source": [
    "lower_sentence = sentence.lower()"
   ]
  },
  {
   "cell_type": "code",
   "execution_count": 3,
   "id": "ce580dbd-c57c-437f-8d7f-f86ae0f879c7",
   "metadata": {},
   "outputs": [
    {
     "name": "stdout",
     "output_type": "stream",
     "text": [
      "my name is sweta sharma\n"
     ]
    }
   ],
   "source": [
    "print(lower_sentence)"
   ]
  },
  {
   "cell_type": "code",
   "execution_count": 4,
   "id": "124e5ebe-ff97-467c-8a7d-bb41e36c22fa",
   "metadata": {},
   "outputs": [],
   "source": [
    "sentence_list = [\n",
    "    'Have you EVER trekked in the Himalayas?',\n",
    "    'Nepal is home to Mount Everest, the tallest peak in the world.',\n",
    "    'The culture of NEPAl is a rich blend of various ethnic groups.',\n",
    "    'Do you want to visit the ancient temples of KATHMANDU?'\n",
    "]\n"
   ]
  },
  {
   "cell_type": "code",
   "execution_count": 5,
   "id": "0efd94da-877a-4cd6-8d15-e7afd7fadb06",
   "metadata": {},
   "outputs": [
    {
     "name": "stdout",
     "output_type": "stream",
     "text": [
      "['Have you EVER trekked in the Himalayas?', 'Nepal is home to Mount Everest, the tallest peak in the world.', 'The culture of NEPAl is a rich blend of various ethnic groups.', 'Do you want to visit the ancient temples of KATHMANDU?']\n"
     ]
    }
   ],
   "source": [
    "print(sentence_list)"
   ]
  },
  {
   "cell_type": "code",
   "execution_count": 7,
   "id": "4ad798d2-4460-441e-821b-9b5c02f7046b",
   "metadata": {},
   "outputs": [],
   "source": [
    "lower_sentence_list = [x.lower() for x in sentence_list]"
   ]
  },
  {
   "cell_type": "code",
   "execution_count": 8,
   "id": "b3f7cbce-6a1b-472f-ba7d-947250d5056e",
   "metadata": {},
   "outputs": [
    {
     "ename": "NameError",
     "evalue": "name 'prinr' is not defined",
     "output_type": "error",
     "traceback": [
      "\u001b[1;31m---------------------------------------------------------------------------\u001b[0m",
      "\u001b[1;31mNameError\u001b[0m                                 Traceback (most recent call last)",
      "Cell \u001b[1;32mIn[8], line 1\u001b[0m\n\u001b[1;32m----> 1\u001b[0m \u001b[43mprinr\u001b[49m(sentence_list)\n",
      "\u001b[1;31mNameError\u001b[0m: name 'prinr' is not defined"
     ]
    }
   ],
   "source": [
    "prinr(sentence_list)"
   ]
  },
  {
   "cell_type": "code",
   "execution_count": null,
   "id": "714404d5-aeba-469d-92ba-fee67186c97a",
   "metadata": {},
   "outputs": [],
   "source": []
  }
 ],
 "metadata": {
  "kernelspec": {
   "display_name": "Python 3 (ipykernel)",
   "language": "python",
   "name": "python3"
  },
  "language_info": {
   "codemirror_mode": {
    "name": "ipython",
    "version": 3
   },
   "file_extension": ".py",
   "mimetype": "text/x-python",
   "name": "python",
   "nbconvert_exporter": "python",
   "pygments_lexer": "ipython3",
   "version": "3.12.3"
  }
 },
 "nbformat": 4,
 "nbformat_minor": 5
}
